{
  "nbformat": 4,
  "nbformat_minor": 0,
  "metadata": {
    "colab": {
      "provenance": [],
      "authorship_tag": "ABX9TyMGUEA9cvWdpXXFS9rNq/Mo",
      "include_colab_link": true
    },
    "kernelspec": {
      "name": "python3",
      "display_name": "Python 3"
    },
    "language_info": {
      "name": "python"
    }
  },
  "cells": [
    {
      "cell_type": "markdown",
      "metadata": {
        "id": "view-in-github",
        "colab_type": "text"
      },
      "source": [
        "<a href=\"https://colab.research.google.com/github/GayathriP4/Python/blob/main/Pandas.ipynb\" target=\"_parent\"><img src=\"https://colab.research.google.com/assets/colab-badge.svg\" alt=\"Open In Colab\"/></a>"
      ]
    },
    {
      "cell_type": "markdown",
      "metadata": {
        "id": "PIMZXXHMteDM"
      },
      "source": [
        "# https://pandas.pydata.org/docs/reference/api/pandas.read_excel.html "
      ]
    },
    {
      "cell_type": "markdown",
      "metadata": {
        "id": "2oFHEE-GykHo"
      },
      "source": [
        "# Reading with Pandas"
      ]
    },
    {
      "cell_type": "code",
      "metadata": {
        "id": "FjsHuWATs43t"
      },
      "source": [
        "import pandas"
      ],
      "execution_count": null,
      "outputs": []
    },
    {
      "cell_type": "code",
      "metadata": {
        "colab": {
          "base_uri": "https://localhost:8080/"
        },
        "id": "uAxg4Ta7ukpU",
        "outputId": "ca481f73-5caa-418c-8f19-5f8cda16ef79"
      },
      "source": [
        "df = pandas.read_csv('/survey.csv')\n",
        "#read_csv - opens, analyzes and reads the csv file provided, and stores the data in a DataFrame\n",
        "print(df)"
      ],
      "execution_count": null,
      "outputs": [
        {
          "output_type": "stream",
          "name": "stdout",
          "text": [
            "       year industry_code_ANZSIC  ...    value               unit\n",
            "0      2011                    A  ...    46134              COUNT\n",
            "1      2011                    A  ...        0              COUNT\n",
            "2      2011                    A  ...      279  DOLLARS(millions)\n",
            "3      2011                    A  ...     8187  DOLLARS(millions)\n",
            "4      2011                    A  ...     8866  DOLLARS(millions)\n",
            "...     ...                  ...  ...      ...                ...\n",
            "15475  2020                  all  ...   733258  DOLLARS(millions)\n",
            "15476  2020                  all  ...   654872  DOLLARS(millions)\n",
            "15477  2020                  all  ...    77389  DOLLARS(millions)\n",
            "15478  2020                  all  ...  2396143  DOLLARS(millions)\n",
            "15479  2020                  all  ...   562646  DOLLARS(millions)\n",
            "\n",
            "[15480 rows x 7 columns]\n"
          ]
        }
      ]
    },
    {
      "cell_type": "code",
      "metadata": {
        "colab": {
          "base_uri": "https://localhost:8080/"
        },
        "id": "NuXzmiZkvHM0",
        "outputId": "dda86191-05a6-4dab-e2ef-85ce530e73cc"
      },
      "source": [
        "#all column names\n",
        "df.columns"
      ],
      "execution_count": null,
      "outputs": [
        {
          "output_type": "execute_result",
          "data": {
            "text/plain": [
              "Index(['year', 'industry_code_ANZSIC', 'industry_name_ANZSIC', 'rme_size_grp',\n",
              "       'variable', 'value', 'unit'],\n",
              "      dtype='object')"
            ]
          },
          "metadata": {},
          "execution_count": 6
        }
      ]
    },
    {
      "cell_type": "code",
      "metadata": {
        "colab": {
          "base_uri": "https://localhost:8080/"
        },
        "id": "VdfF561Du2hp",
        "outputId": "049c48c5-a29c-4251-e106-3d2217687aad"
      },
      "source": [
        "type(df['year'][0])"
      ],
      "execution_count": null,
      "outputs": [
        {
          "output_type": "execute_result",
          "data": {
            "text/plain": [
              "numpy.int64"
            ]
          },
          "metadata": {},
          "execution_count": 8
        }
      ]
    },
    {
      "cell_type": "code",
      "metadata": {
        "colab": {
          "base_uri": "https://localhost:8080/"
        },
        "id": "IFx-M3Xxw-jq",
        "outputId": "b56d1ef4-2354-4f7c-92b9-6a47ac6365f6"
      },
      "source": [
        "df['value']"
      ],
      "execution_count": null,
      "outputs": [
        {
          "output_type": "execute_result",
          "data": {
            "text/plain": [
              "0          46134\n",
              "1              0\n",
              "2            279\n",
              "3           8187\n",
              "4           8866\n",
              "          ...   \n",
              "15475     733258\n",
              "15476     654872\n",
              "15477      77389\n",
              "15478    2396143\n",
              "15479     562646\n",
              "Name: value, Length: 15480, dtype: object"
            ]
          },
          "metadata": {},
          "execution_count": 9
        }
      ]
    },
    {
      "cell_type": "code",
      "metadata": {
        "colab": {
          "base_uri": "https://localhost:8080/",
          "height": 809
        },
        "id": "mWdhLL-qyGcR",
        "outputId": "2cd3a21a-dfeb-4b64-a2ca-32e42bc6559a"
      },
      "source": [
        "df.head(n=12) #default n=5"
      ],
      "execution_count": null,
      "outputs": [
        {
          "output_type": "execute_result",
          "data": {
            "text/html": [
              "<div>\n",
              "<style scoped>\n",
              "    .dataframe tbody tr th:only-of-type {\n",
              "        vertical-align: middle;\n",
              "    }\n",
              "\n",
              "    .dataframe tbody tr th {\n",
              "        vertical-align: top;\n",
              "    }\n",
              "\n",
              "    .dataframe thead th {\n",
              "        text-align: right;\n",
              "    }\n",
              "</style>\n",
              "<table border=\"1\" class=\"dataframe\">\n",
              "  <thead>\n",
              "    <tr style=\"text-align: right;\">\n",
              "      <th></th>\n",
              "      <th>year</th>\n",
              "      <th>industry_code_ANZSIC</th>\n",
              "      <th>industry_name_ANZSIC</th>\n",
              "      <th>rme_size_grp</th>\n",
              "      <th>variable</th>\n",
              "      <th>value</th>\n",
              "      <th>unit</th>\n",
              "    </tr>\n",
              "  </thead>\n",
              "  <tbody>\n",
              "    <tr>\n",
              "      <th>0</th>\n",
              "      <td>2011</td>\n",
              "      <td>A</td>\n",
              "      <td>Agriculture, Forestry and Fishing</td>\n",
              "      <td>a_0</td>\n",
              "      <td>Activity unit</td>\n",
              "      <td>46134</td>\n",
              "      <td>COUNT</td>\n",
              "    </tr>\n",
              "    <tr>\n",
              "      <th>1</th>\n",
              "      <td>2011</td>\n",
              "      <td>A</td>\n",
              "      <td>Agriculture, Forestry and Fishing</td>\n",
              "      <td>a_0</td>\n",
              "      <td>Rolling mean employees</td>\n",
              "      <td>0</td>\n",
              "      <td>COUNT</td>\n",
              "    </tr>\n",
              "    <tr>\n",
              "      <th>2</th>\n",
              "      <td>2011</td>\n",
              "      <td>A</td>\n",
              "      <td>Agriculture, Forestry and Fishing</td>\n",
              "      <td>a_0</td>\n",
              "      <td>Salaries and wages paid</td>\n",
              "      <td>279</td>\n",
              "      <td>DOLLARS(millions)</td>\n",
              "    </tr>\n",
              "    <tr>\n",
              "      <th>3</th>\n",
              "      <td>2011</td>\n",
              "      <td>A</td>\n",
              "      <td>Agriculture, Forestry and Fishing</td>\n",
              "      <td>a_0</td>\n",
              "      <td>Sales, government funding, grants and subsidies</td>\n",
              "      <td>8187</td>\n",
              "      <td>DOLLARS(millions)</td>\n",
              "    </tr>\n",
              "    <tr>\n",
              "      <th>4</th>\n",
              "      <td>2011</td>\n",
              "      <td>A</td>\n",
              "      <td>Agriculture, Forestry and Fishing</td>\n",
              "      <td>a_0</td>\n",
              "      <td>Total income</td>\n",
              "      <td>8866</td>\n",
              "      <td>DOLLARS(millions)</td>\n",
              "    </tr>\n",
              "    <tr>\n",
              "      <th>5</th>\n",
              "      <td>2011</td>\n",
              "      <td>A</td>\n",
              "      <td>Agriculture, Forestry and Fishing</td>\n",
              "      <td>a_0</td>\n",
              "      <td>Total expenditure</td>\n",
              "      <td>7618</td>\n",
              "      <td>DOLLARS(millions)</td>\n",
              "    </tr>\n",
              "    <tr>\n",
              "      <th>6</th>\n",
              "      <td>2011</td>\n",
              "      <td>A</td>\n",
              "      <td>Agriculture, Forestry and Fishing</td>\n",
              "      <td>a_0</td>\n",
              "      <td>Operating profit before tax</td>\n",
              "      <td>770</td>\n",
              "      <td>DOLLARS(millions)</td>\n",
              "    </tr>\n",
              "    <tr>\n",
              "      <th>7</th>\n",
              "      <td>2011</td>\n",
              "      <td>A</td>\n",
              "      <td>Agriculture, Forestry and Fishing</td>\n",
              "      <td>a_0</td>\n",
              "      <td>Total assets</td>\n",
              "      <td>55700</td>\n",
              "      <td>DOLLARS(millions)</td>\n",
              "    </tr>\n",
              "    <tr>\n",
              "      <th>8</th>\n",
              "      <td>2011</td>\n",
              "      <td>A</td>\n",
              "      <td>Agriculture, Forestry and Fishing</td>\n",
              "      <td>a_0</td>\n",
              "      <td>Fixed tangible assets</td>\n",
              "      <td>32155</td>\n",
              "      <td>DOLLARS(millions)</td>\n",
              "    </tr>\n",
              "    <tr>\n",
              "      <th>9</th>\n",
              "      <td>2011</td>\n",
              "      <td>A</td>\n",
              "      <td>Agriculture, Forestry and Fishing</td>\n",
              "      <td>b_1-5</td>\n",
              "      <td>Activity unit</td>\n",
              "      <td>21777</td>\n",
              "      <td>COUNT</td>\n",
              "    </tr>\n",
              "    <tr>\n",
              "      <th>10</th>\n",
              "      <td>2011</td>\n",
              "      <td>A</td>\n",
              "      <td>Agriculture, Forestry and Fishing</td>\n",
              "      <td>b_1-5</td>\n",
              "      <td>Rolling mean employees</td>\n",
              "      <td>38136</td>\n",
              "      <td>COUNT</td>\n",
              "    </tr>\n",
              "    <tr>\n",
              "      <th>11</th>\n",
              "      <td>2011</td>\n",
              "      <td>A</td>\n",
              "      <td>Agriculture, Forestry and Fishing</td>\n",
              "      <td>b_1-5</td>\n",
              "      <td>Salaries and wages paid</td>\n",
              "      <td>1435</td>\n",
              "      <td>DOLLARS(millions)</td>\n",
              "    </tr>\n",
              "  </tbody>\n",
              "</table>\n",
              "</div>"
            ],
            "text/plain": [
              "    year industry_code_ANZSIC  ...  value               unit\n",
              "0   2011                    A  ...  46134              COUNT\n",
              "1   2011                    A  ...      0              COUNT\n",
              "2   2011                    A  ...    279  DOLLARS(millions)\n",
              "3   2011                    A  ...   8187  DOLLARS(millions)\n",
              "4   2011                    A  ...   8866  DOLLARS(millions)\n",
              "5   2011                    A  ...   7618  DOLLARS(millions)\n",
              "6   2011                    A  ...    770  DOLLARS(millions)\n",
              "7   2011                    A  ...  55700  DOLLARS(millions)\n",
              "8   2011                    A  ...  32155  DOLLARS(millions)\n",
              "9   2011                    A  ...  21777              COUNT\n",
              "10  2011                    A  ...  38136              COUNT\n",
              "11  2011                    A  ...   1435  DOLLARS(millions)\n",
              "\n",
              "[12 rows x 7 columns]"
            ]
          },
          "metadata": {},
          "execution_count": 11
        }
      ]
    },
    {
      "cell_type": "code",
      "metadata": {
        "colab": {
          "base_uri": "https://localhost:8080/",
          "height": 790
        },
        "id": "G5Gp-eLx2Kdn",
        "outputId": "670b6d15-315b-4396-e2aa-2264fa5c46cb"
      },
      "source": [
        "df[:-3] #all but last 3 rows"
      ],
      "execution_count": null,
      "outputs": [
        {
          "output_type": "execute_result",
          "data": {
            "text/html": [
              "<div>\n",
              "<style scoped>\n",
              "    .dataframe tbody tr th:only-of-type {\n",
              "        vertical-align: middle;\n",
              "    }\n",
              "\n",
              "    .dataframe tbody tr th {\n",
              "        vertical-align: top;\n",
              "    }\n",
              "\n",
              "    .dataframe thead th {\n",
              "        text-align: right;\n",
              "    }\n",
              "</style>\n",
              "<table border=\"1\" class=\"dataframe\">\n",
              "  <thead>\n",
              "    <tr style=\"text-align: right;\">\n",
              "      <th></th>\n",
              "      <th>year</th>\n",
              "      <th>industry_code_ANZSIC</th>\n",
              "      <th>industry_name_ANZSIC</th>\n",
              "      <th>rme_size_grp</th>\n",
              "      <th>variable</th>\n",
              "      <th>value</th>\n",
              "      <th>unit</th>\n",
              "    </tr>\n",
              "  </thead>\n",
              "  <tbody>\n",
              "    <tr>\n",
              "      <th>0</th>\n",
              "      <td>2011</td>\n",
              "      <td>A</td>\n",
              "      <td>Agriculture, Forestry and Fishing</td>\n",
              "      <td>a_0</td>\n",
              "      <td>Activity unit</td>\n",
              "      <td>46134</td>\n",
              "      <td>COUNT</td>\n",
              "    </tr>\n",
              "    <tr>\n",
              "      <th>1</th>\n",
              "      <td>2011</td>\n",
              "      <td>A</td>\n",
              "      <td>Agriculture, Forestry and Fishing</td>\n",
              "      <td>a_0</td>\n",
              "      <td>Rolling mean employees</td>\n",
              "      <td>0</td>\n",
              "      <td>COUNT</td>\n",
              "    </tr>\n",
              "    <tr>\n",
              "      <th>2</th>\n",
              "      <td>2011</td>\n",
              "      <td>A</td>\n",
              "      <td>Agriculture, Forestry and Fishing</td>\n",
              "      <td>a_0</td>\n",
              "      <td>Salaries and wages paid</td>\n",
              "      <td>279</td>\n",
              "      <td>DOLLARS(millions)</td>\n",
              "    </tr>\n",
              "    <tr>\n",
              "      <th>3</th>\n",
              "      <td>2011</td>\n",
              "      <td>A</td>\n",
              "      <td>Agriculture, Forestry and Fishing</td>\n",
              "      <td>a_0</td>\n",
              "      <td>Sales, government funding, grants and subsidies</td>\n",
              "      <td>8187</td>\n",
              "      <td>DOLLARS(millions)</td>\n",
              "    </tr>\n",
              "    <tr>\n",
              "      <th>4</th>\n",
              "      <td>2011</td>\n",
              "      <td>A</td>\n",
              "      <td>Agriculture, Forestry and Fishing</td>\n",
              "      <td>a_0</td>\n",
              "      <td>Total income</td>\n",
              "      <td>8866</td>\n",
              "      <td>DOLLARS(millions)</td>\n",
              "    </tr>\n",
              "    <tr>\n",
              "      <th>...</th>\n",
              "      <td>...</td>\n",
              "      <td>...</td>\n",
              "      <td>...</td>\n",
              "      <td>...</td>\n",
              "      <td>...</td>\n",
              "      <td>...</td>\n",
              "      <td>...</td>\n",
              "    </tr>\n",
              "    <tr>\n",
              "      <th>15472</th>\n",
              "      <td>2020</td>\n",
              "      <td>all</td>\n",
              "      <td>All Industries</td>\n",
              "      <td>j_Grand_Total</td>\n",
              "      <td>Rolling mean employees</td>\n",
              "      <td>1903911</td>\n",
              "      <td>COUNT</td>\n",
              "    </tr>\n",
              "    <tr>\n",
              "      <th>15473</th>\n",
              "      <td>2020</td>\n",
              "      <td>all</td>\n",
              "      <td>All Industries</td>\n",
              "      <td>j_Grand_Total</td>\n",
              "      <td>Salaries and wages paid</td>\n",
              "      <td>119387</td>\n",
              "      <td>DOLLARS(millions)</td>\n",
              "    </tr>\n",
              "    <tr>\n",
              "      <th>15474</th>\n",
              "      <td>2020</td>\n",
              "      <td>all</td>\n",
              "      <td>All Industries</td>\n",
              "      <td>j_Grand_Total</td>\n",
              "      <td>Sales, government funding, grants and subsidies</td>\n",
              "      <td>660630</td>\n",
              "      <td>DOLLARS(millions)</td>\n",
              "    </tr>\n",
              "    <tr>\n",
              "      <th>15475</th>\n",
              "      <td>2020</td>\n",
              "      <td>all</td>\n",
              "      <td>All Industries</td>\n",
              "      <td>j_Grand_Total</td>\n",
              "      <td>Total income</td>\n",
              "      <td>733258</td>\n",
              "      <td>DOLLARS(millions)</td>\n",
              "    </tr>\n",
              "    <tr>\n",
              "      <th>15476</th>\n",
              "      <td>2020</td>\n",
              "      <td>all</td>\n",
              "      <td>All Industries</td>\n",
              "      <td>j_Grand_Total</td>\n",
              "      <td>Total expenditure</td>\n",
              "      <td>654872</td>\n",
              "      <td>DOLLARS(millions)</td>\n",
              "    </tr>\n",
              "  </tbody>\n",
              "</table>\n",
              "<p>15477 rows × 7 columns</p>\n",
              "</div>"
            ],
            "text/plain": [
              "       year industry_code_ANZSIC  ...    value               unit\n",
              "0      2011                    A  ...    46134              COUNT\n",
              "1      2011                    A  ...        0              COUNT\n",
              "2      2011                    A  ...      279  DOLLARS(millions)\n",
              "3      2011                    A  ...     8187  DOLLARS(millions)\n",
              "4      2011                    A  ...     8866  DOLLARS(millions)\n",
              "...     ...                  ...  ...      ...                ...\n",
              "15472  2020                  all  ...  1903911              COUNT\n",
              "15473  2020                  all  ...   119387  DOLLARS(millions)\n",
              "15474  2020                  all  ...   660630  DOLLARS(millions)\n",
              "15475  2020                  all  ...   733258  DOLLARS(millions)\n",
              "15476  2020                  all  ...   654872  DOLLARS(millions)\n",
              "\n",
              "[15477 rows x 7 columns]"
            ]
          },
          "metadata": {},
          "execution_count": 13
        }
      ]
    },
    {
      "cell_type": "code",
      "metadata": {
        "colab": {
          "base_uri": "https://localhost:8080/",
          "height": 300
        },
        "id": "MW8nrxmq2Thz",
        "outputId": "2901318a-5fe8-4c76-f968-0f158cafb1aa"
      },
      "source": [
        "df.describe() \n",
        "#summarize the central tendency, dispersion and shape of a datset's distribution, excluding NaN values\n",
        "#analyzes both numeric and object series as well as DataFrame columns sets of mixed datatypes."
      ],
      "execution_count": null,
      "outputs": [
        {
          "output_type": "execute_result",
          "data": {
            "text/html": [
              "<div>\n",
              "<style scoped>\n",
              "    .dataframe tbody tr th:only-of-type {\n",
              "        vertical-align: middle;\n",
              "    }\n",
              "\n",
              "    .dataframe tbody tr th {\n",
              "        vertical-align: top;\n",
              "    }\n",
              "\n",
              "    .dataframe thead th {\n",
              "        text-align: right;\n",
              "    }\n",
              "</style>\n",
              "<table border=\"1\" class=\"dataframe\">\n",
              "  <thead>\n",
              "    <tr style=\"text-align: right;\">\n",
              "      <th></th>\n",
              "      <th>year</th>\n",
              "    </tr>\n",
              "  </thead>\n",
              "  <tbody>\n",
              "    <tr>\n",
              "      <th>count</th>\n",
              "      <td>15480.000000</td>\n",
              "    </tr>\n",
              "    <tr>\n",
              "      <th>mean</th>\n",
              "      <td>2015.500000</td>\n",
              "    </tr>\n",
              "    <tr>\n",
              "      <th>std</th>\n",
              "      <td>2.872374</td>\n",
              "    </tr>\n",
              "    <tr>\n",
              "      <th>min</th>\n",
              "      <td>2011.000000</td>\n",
              "    </tr>\n",
              "    <tr>\n",
              "      <th>25%</th>\n",
              "      <td>2013.000000</td>\n",
              "    </tr>\n",
              "    <tr>\n",
              "      <th>50%</th>\n",
              "      <td>2015.500000</td>\n",
              "    </tr>\n",
              "    <tr>\n",
              "      <th>75%</th>\n",
              "      <td>2018.000000</td>\n",
              "    </tr>\n",
              "    <tr>\n",
              "      <th>max</th>\n",
              "      <td>2020.000000</td>\n",
              "    </tr>\n",
              "  </tbody>\n",
              "</table>\n",
              "</div>"
            ],
            "text/plain": [
              "               year\n",
              "count  15480.000000\n",
              "mean    2015.500000\n",
              "std        2.872374\n",
              "min     2011.000000\n",
              "25%     2013.000000\n",
              "50%     2015.500000\n",
              "75%     2018.000000\n",
              "max     2020.000000"
            ]
          },
          "metadata": {},
          "execution_count": 14
        }
      ]
    },
    {
      "cell_type": "code",
      "metadata": {
        "colab": {
          "base_uri": "https://localhost:8080/"
        },
        "id": "Vnterjz6259d",
        "outputId": "90a434a6-7353-4b62-9fdb-c628c826192d"
      },
      "source": [
        "x = lambda a,b,c: a+b+c\n",
        "x(2,3,6)"
      ],
      "execution_count": null,
      "outputs": [
        {
          "output_type": "execute_result",
          "data": {
            "text/plain": [
              "11"
            ]
          },
          "metadata": {},
          "execution_count": 17
        }
      ]
    },
    {
      "cell_type": "code",
      "metadata": {
        "colab": {
          "base_uri": "https://localhost:8080/",
          "height": 166
        },
        "id": "SzundfOeMyES",
        "outputId": "5f7041fe-a40d-4e4b-8eb6-5671cdf9bc0b"
      },
      "source": [
        "int('p')"
      ],
      "execution_count": null,
      "outputs": [
        {
          "output_type": "error",
          "ename": "ValueError",
          "evalue": "ignored",
          "traceback": [
            "\u001b[0;31m---------------------------------------------------------------------------\u001b[0m",
            "\u001b[0;31mValueError\u001b[0m                                Traceback (most recent call last)",
            "\u001b[0;32m<ipython-input-18-b4a81aa418bc>\u001b[0m in \u001b[0;36m<module>\u001b[0;34m()\u001b[0m\n\u001b[0;32m----> 1\u001b[0;31m \u001b[0mint\u001b[0m\u001b[0;34m(\u001b[0m\u001b[0;34m'p'\u001b[0m\u001b[0;34m)\u001b[0m\u001b[0;34m\u001b[0m\u001b[0;34m\u001b[0m\u001b[0m\n\u001b[0m",
            "\u001b[0;31mValueError\u001b[0m: invalid literal for int() with base 10: 'p'"
          ]
        }
      ]
    }
  ]
}