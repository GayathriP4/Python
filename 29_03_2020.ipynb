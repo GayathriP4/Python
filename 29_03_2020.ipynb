{
  "nbformat": 4,
  "nbformat_minor": 0,
  "metadata": {
    "colab": {
      "provenance": [],
      "authorship_tag": "ABX9TyN3JWNok5nnfSf5Sv1lofj7",
      "include_colab_link": true
    },
    "kernelspec": {
      "name": "python3",
      "display_name": "Python 3"
    }
  },
  "cells": [
    {
      "cell_type": "markdown",
      "metadata": {
        "id": "view-in-github",
        "colab_type": "text"
      },
      "source": [
        "<a href=\"https://colab.research.google.com/github/GayathriP4/Python/blob/main/29_03_2020.ipynb\" target=\"_parent\"><img src=\"https://colab.research.google.com/assets/colab-badge.svg\" alt=\"Open In Colab\"/></a>"
      ]
    },
    {
      "cell_type": "code",
      "metadata": {
        "id": "uBn6tTWw2Ibx",
        "colab": {
          "base_uri": "https://localhost:8080/",
          "height": 50
        },
        "outputId": "f666e689-56c5-42d1-c3bb-4ed62db29047"
      },
      "source": [
        "l = [int(x) for x in input().split()]\n",
        "d = { x:l.count(x) for x in l}\n",
        "print(d)"
      ],
      "execution_count": null,
      "outputs": [
        {
          "output_type": "stream",
          "text": [
            "2 3 4 5 5 5 6 2 4 6 3 5\n",
            "{2: 2, 3: 2, 4: 2, 5: 4, 6: 2}\n"
          ],
          "name": "stdout"
        }
      ]
    },
    {
      "cell_type": "code",
      "metadata": {
        "id": "S2StcjIo4VO6",
        "colab": {
          "base_uri": "https://localhost:8080/",
          "height": 67
        },
        "outputId": "c501f0e9-3962-4b08-e58b-f5bd1959c8d3"
      },
      "source": [
        "l2 = l\n",
        "l3 = l.copy()\n",
        "l2[2] = 100\n",
        "l[3] = 90\n",
        "print(id(l),l)\n",
        "print(id(l2),l2)\n",
        "print(id(l3),l3)"
      ],
      "execution_count": null,
      "outputs": [
        {
          "output_type": "stream",
          "text": [
            "140265691318792 [2, 3, 100, 90, 5, 5, 6, 2, 4, 6, 3, 5]\n",
            "140265691318792 [2, 3, 100, 90, 5, 5, 6, 2, 4, 6, 3, 5]\n",
            "140265681144776 [2, 3, 100, 5, 5, 5, 6, 2, 4, 6, 3, 5]\n"
          ],
          "name": "stdout"
        }
      ]
    }
  ]
}