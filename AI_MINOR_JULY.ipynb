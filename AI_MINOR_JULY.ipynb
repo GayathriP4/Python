{
  "nbformat": 4,
  "nbformat_minor": 0,
  "metadata": {
    "colab": {
      "provenance": [],
      "authorship_tag": "ABX9TyPb6TkZjoVKhHcVSqUJuF44",
      "include_colab_link": true
    },
    "kernelspec": {
      "name": "python3",
      "display_name": "Python 3"
    }
  },
  "cells": [
    {
      "cell_type": "markdown",
      "metadata": {
        "id": "view-in-github",
        "colab_type": "text"
      },
      "source": [
        "<a href=\"https://colab.research.google.com/github/GayathriP4/Python/blob/main/AI_MINOR_JULY.ipynb\" target=\"_parent\"><img src=\"https://colab.research.google.com/assets/colab-badge.svg\" alt=\"Open In Colab\"/></a>"
      ]
    },
    {
      "cell_type": "markdown",
      "metadata": {
        "id": "4Ke7sEz1EHL4"
      },
      "source": [
        "# 1. Importing all the packages required "
      ]
    },
    {
      "cell_type": "code",
      "metadata": {
        "id": "YOvzxCVHBQ81"
      },
      "source": [
        "import pandas as pd\n",
        "from sklearn.model_selection import train_test_split\n",
        "from sklearn.preprocessing import StandardScaler\n",
        "from keras.models import Sequential\n",
        "from keras.layers import Dense\n",
        "from keras.utils.np_utils import to_categorical\n",
        "from keras.models import load_model\n",
        "import numpy as np"
      ],
      "execution_count": null,
      "outputs": []
    },
    {
      "cell_type": "markdown",
      "metadata": {
        "id": "nsKhkIfRD-T-"
      },
      "source": [
        " # 2. Organizing Iris Dataset & splitting"
      ]
    },
    {
      "cell_type": "code",
      "metadata": {
        "id": "JtQZgtAPBx3h",
        "colab": {
          "base_uri": "https://localhost:8080/",
          "height": 195
        },
        "outputId": "19288ab1-f28c-463b-d8ad-10b8dc8568cd"
      },
      "source": [
        "#2 training dataset\n",
        "fp = '/content/Iris.csv'\n",
        "df = pd.read_csv(fp)\n",
        "df.head()"
      ],
      "execution_count": null,
      "outputs": [
        {
          "output_type": "execute_result",
          "data": {
            "text/html": [
              "<div>\n",
              "<style scoped>\n",
              "    .dataframe tbody tr th:only-of-type {\n",
              "        vertical-align: middle;\n",
              "    }\n",
              "\n",
              "    .dataframe tbody tr th {\n",
              "        vertical-align: top;\n",
              "    }\n",
              "\n",
              "    .dataframe thead th {\n",
              "        text-align: right;\n",
              "    }\n",
              "</style>\n",
              "<table border=\"1\" class=\"dataframe\">\n",
              "  <thead>\n",
              "    <tr style=\"text-align: right;\">\n",
              "      <th></th>\n",
              "      <th>Id</th>\n",
              "      <th>SepalLengthCm</th>\n",
              "      <th>SepalWidthCm</th>\n",
              "      <th>PetalLengthCm</th>\n",
              "      <th>PetalWidthCm</th>\n",
              "      <th>Species</th>\n",
              "    </tr>\n",
              "  </thead>\n",
              "  <tbody>\n",
              "    <tr>\n",
              "      <th>0</th>\n",
              "      <td>1</td>\n",
              "      <td>5.1</td>\n",
              "      <td>3.5</td>\n",
              "      <td>1.4</td>\n",
              "      <td>0.2</td>\n",
              "      <td>Iris-setosa</td>\n",
              "    </tr>\n",
              "    <tr>\n",
              "      <th>1</th>\n",
              "      <td>2</td>\n",
              "      <td>4.9</td>\n",
              "      <td>3.0</td>\n",
              "      <td>1.4</td>\n",
              "      <td>0.2</td>\n",
              "      <td>Iris-setosa</td>\n",
              "    </tr>\n",
              "    <tr>\n",
              "      <th>2</th>\n",
              "      <td>3</td>\n",
              "      <td>4.7</td>\n",
              "      <td>3.2</td>\n",
              "      <td>1.3</td>\n",
              "      <td>0.2</td>\n",
              "      <td>Iris-setosa</td>\n",
              "    </tr>\n",
              "    <tr>\n",
              "      <th>3</th>\n",
              "      <td>4</td>\n",
              "      <td>4.6</td>\n",
              "      <td>3.1</td>\n",
              "      <td>1.5</td>\n",
              "      <td>0.2</td>\n",
              "      <td>Iris-setosa</td>\n",
              "    </tr>\n",
              "    <tr>\n",
              "      <th>4</th>\n",
              "      <td>5</td>\n",
              "      <td>5.0</td>\n",
              "      <td>3.6</td>\n",
              "      <td>1.4</td>\n",
              "      <td>0.2</td>\n",
              "      <td>Iris-setosa</td>\n",
              "    </tr>\n",
              "  </tbody>\n",
              "</table>\n",
              "</div>"
            ],
            "text/plain": [
              "   Id  SepalLengthCm  SepalWidthCm  PetalLengthCm  PetalWidthCm      Species\n",
              "0   1            5.1           3.5            1.4           0.2  Iris-setosa\n",
              "1   2            4.9           3.0            1.4           0.2  Iris-setosa\n",
              "2   3            4.7           3.2            1.3           0.2  Iris-setosa\n",
              "3   4            4.6           3.1            1.5           0.2  Iris-setosa\n",
              "4   5            5.0           3.6            1.4           0.2  Iris-setosa"
            ]
          },
          "metadata": {
            "tags": []
          },
          "execution_count": 152
        }
      ]
    },
    {
      "cell_type": "code",
      "metadata": {
        "id": "bVa3f4JkEVNM",
        "colab": {
          "base_uri": "https://localhost:8080/",
          "height": 34
        },
        "outputId": "2595c3d2-3183-4a2b-8fef-99f0ccc2c93e"
      },
      "source": [
        "a = df.Species.unique()\n",
        "di = { a[i]:i for i in range(len(a))}\n",
        "n = len(di)\n",
        "di"
      ],
      "execution_count": null,
      "outputs": [
        {
          "output_type": "execute_result",
          "data": {
            "text/plain": [
              "{'Iris-setosa': 0, 'Iris-versicolor': 1, 'Iris-virginica': 2}"
            ]
          },
          "metadata": {
            "tags": []
          },
          "execution_count": 175
        }
      ]
    },
    {
      "cell_type": "code",
      "metadata": {
        "id": "J6YXR5oSEwg5",
        "colab": {
          "base_uri": "https://localhost:8080/",
          "height": 284
        },
        "outputId": "992e2afa-bbc8-43fd-8f6e-b1d14130bcb5"
      },
      "source": [
        "df['species'] = [di[i] for i in df['Species']]\n",
        "df.describe()"
      ],
      "execution_count": null,
      "outputs": [
        {
          "output_type": "execute_result",
          "data": {
            "text/html": [
              "<div>\n",
              "<style scoped>\n",
              "    .dataframe tbody tr th:only-of-type {\n",
              "        vertical-align: middle;\n",
              "    }\n",
              "\n",
              "    .dataframe tbody tr th {\n",
              "        vertical-align: top;\n",
              "    }\n",
              "\n",
              "    .dataframe thead th {\n",
              "        text-align: right;\n",
              "    }\n",
              "</style>\n",
              "<table border=\"1\" class=\"dataframe\">\n",
              "  <thead>\n",
              "    <tr style=\"text-align: right;\">\n",
              "      <th></th>\n",
              "      <th>Id</th>\n",
              "      <th>SepalLengthCm</th>\n",
              "      <th>SepalWidthCm</th>\n",
              "      <th>PetalLengthCm</th>\n",
              "      <th>PetalWidthCm</th>\n",
              "      <th>species</th>\n",
              "    </tr>\n",
              "  </thead>\n",
              "  <tbody>\n",
              "    <tr>\n",
              "      <th>count</th>\n",
              "      <td>150.000000</td>\n",
              "      <td>150.000000</td>\n",
              "      <td>150.000000</td>\n",
              "      <td>150.000000</td>\n",
              "      <td>150.000000</td>\n",
              "      <td>150.000000</td>\n",
              "    </tr>\n",
              "    <tr>\n",
              "      <th>mean</th>\n",
              "      <td>75.500000</td>\n",
              "      <td>5.843333</td>\n",
              "      <td>3.054000</td>\n",
              "      <td>3.758667</td>\n",
              "      <td>1.198667</td>\n",
              "      <td>1.000000</td>\n",
              "    </tr>\n",
              "    <tr>\n",
              "      <th>std</th>\n",
              "      <td>43.445368</td>\n",
              "      <td>0.828066</td>\n",
              "      <td>0.433594</td>\n",
              "      <td>1.764420</td>\n",
              "      <td>0.763161</td>\n",
              "      <td>0.819232</td>\n",
              "    </tr>\n",
              "    <tr>\n",
              "      <th>min</th>\n",
              "      <td>1.000000</td>\n",
              "      <td>4.300000</td>\n",
              "      <td>2.000000</td>\n",
              "      <td>1.000000</td>\n",
              "      <td>0.100000</td>\n",
              "      <td>0.000000</td>\n",
              "    </tr>\n",
              "    <tr>\n",
              "      <th>25%</th>\n",
              "      <td>38.250000</td>\n",
              "      <td>5.100000</td>\n",
              "      <td>2.800000</td>\n",
              "      <td>1.600000</td>\n",
              "      <td>0.300000</td>\n",
              "      <td>0.000000</td>\n",
              "    </tr>\n",
              "    <tr>\n",
              "      <th>50%</th>\n",
              "      <td>75.500000</td>\n",
              "      <td>5.800000</td>\n",
              "      <td>3.000000</td>\n",
              "      <td>4.350000</td>\n",
              "      <td>1.300000</td>\n",
              "      <td>1.000000</td>\n",
              "    </tr>\n",
              "    <tr>\n",
              "      <th>75%</th>\n",
              "      <td>112.750000</td>\n",
              "      <td>6.400000</td>\n",
              "      <td>3.300000</td>\n",
              "      <td>5.100000</td>\n",
              "      <td>1.800000</td>\n",
              "      <td>2.000000</td>\n",
              "    </tr>\n",
              "    <tr>\n",
              "      <th>max</th>\n",
              "      <td>150.000000</td>\n",
              "      <td>7.900000</td>\n",
              "      <td>4.400000</td>\n",
              "      <td>6.900000</td>\n",
              "      <td>2.500000</td>\n",
              "      <td>2.000000</td>\n",
              "    </tr>\n",
              "  </tbody>\n",
              "</table>\n",
              "</div>"
            ],
            "text/plain": [
              "               Id  SepalLengthCm  ...  PetalWidthCm     species\n",
              "count  150.000000     150.000000  ...    150.000000  150.000000\n",
              "mean    75.500000       5.843333  ...      1.198667    1.000000\n",
              "std     43.445368       0.828066  ...      0.763161    0.819232\n",
              "min      1.000000       4.300000  ...      0.100000    0.000000\n",
              "25%     38.250000       5.100000  ...      0.300000    0.000000\n",
              "50%     75.500000       5.800000  ...      1.300000    1.000000\n",
              "75%    112.750000       6.400000  ...      1.800000    2.000000\n",
              "max    150.000000       7.900000  ...      2.500000    2.000000\n",
              "\n",
              "[8 rows x 6 columns]"
            ]
          },
          "metadata": {
            "tags": []
          },
          "execution_count": 176
        }
      ]
    },
    {
      "cell_type": "code",
      "metadata": {
        "id": "C5fR6k39gvvs"
      },
      "source": [
        "target = to_categorical(df['species'])\n",
        "features = df.drop(['Species','species','Id'],axis=1)\n",
        "cols = features.shape[1]"
      ],
      "execution_count": null,
      "outputs": []
    },
    {
      "cell_type": "code",
      "metadata": {
        "id": "71BkTW7IFLv4"
      },
      "source": [
        "X_train,X_test,Y_train,Y_test = train_test_split(features,target,test_size=0.2,stratify=target,random_state=42)"
      ],
      "execution_count": null,
      "outputs": []
    },
    {
      "cell_type": "markdown",
      "metadata": {
        "id": "IADJT8WVi3uJ"
      },
      "source": [
        "# 3. Scaling "
      ]
    },
    {
      "cell_type": "code",
      "metadata": {
        "id": "8qeHw8AUiXey"
      },
      "source": [
        "scaler = StandardScaler()"
      ],
      "execution_count": null,
      "outputs": []
    },
    {
      "cell_type": "code",
      "metadata": {
        "id": "biUjHz6SidNC",
        "colab": {
          "base_uri": "https://localhost:8080/",
          "height": 34
        },
        "outputId": "4c7d03c3-67b6-45f3-bf3d-19458a26804d"
      },
      "source": [
        "scaler.fit(X_train)"
      ],
      "execution_count": null,
      "outputs": [
        {
          "output_type": "execute_result",
          "data": {
            "text/plain": [
              "StandardScaler(copy=True, with_mean=True, with_std=True)"
            ]
          },
          "metadata": {
            "tags": []
          },
          "execution_count": 191
        }
      ]
    },
    {
      "cell_type": "code",
      "metadata": {
        "id": "R1Mc0GY_ilk1"
      },
      "source": [
        "X_train = scaler.transform(X_train)\n",
        "X_test = scaler.transform(X_test)"
      ],
      "execution_count": null,
      "outputs": []
    },
    {
      "cell_type": "markdown",
      "metadata": {
        "id": "j1BpJRLzfnOI"
      },
      "source": [
        "# 4. Specifying Architecture"
      ]
    },
    {
      "cell_type": "code",
      "metadata": {
        "id": "ywnTTlviFqaM"
      },
      "source": [
        "model = Sequential()\n",
        "model.add(Dense(104,activation='relu',input_shape=(cols,))) \n",
        "model.add(Dense(24,activation='relu'))\n",
        "model.add(Dense(n,activation='softmax'))"
      ],
      "execution_count": null,
      "outputs": []
    },
    {
      "cell_type": "markdown",
      "metadata": {
        "id": "4dUU3OIKfwkT"
      },
      "source": [
        "# 5. Compile "
      ]
    },
    {
      "cell_type": "code",
      "metadata": {
        "id": "exTqu7acGJMY"
      },
      "source": [
        "model.compile(optimizer='adam',loss='categorical_crossentropy',metrics=['accuracy'])"
      ],
      "execution_count": null,
      "outputs": []
    },
    {
      "cell_type": "markdown",
      "metadata": {
        "id": "60dB61pqf0y1"
      },
      "source": [
        "# 6. Predict"
      ]
    },
    {
      "cell_type": "code",
      "metadata": {
        "id": "3M9ynf1QGPHp",
        "colab": {
          "base_uri": "https://localhost:8080/",
          "height": 1000
        },
        "outputId": "4965a5aa-0004-409f-b350-561bc855b7b5"
      },
      "source": [
        "model.fit(X_train,Y_train,epochs=35)"
      ],
      "execution_count": null,
      "outputs": [
        {
          "output_type": "stream",
          "text": [
            "Epoch 1/35\n",
            "4/4 [==============================] - 0s 2ms/step - loss: 1.0440 - accuracy: 0.5583\n",
            "Epoch 2/35\n",
            "4/4 [==============================] - 0s 2ms/step - loss: 0.9467 - accuracy: 0.7667\n",
            "Epoch 3/35\n",
            "4/4 [==============================] - 0s 2ms/step - loss: 0.8574 - accuracy: 0.8167\n",
            "Epoch 4/35\n",
            "4/4 [==============================] - 0s 1ms/step - loss: 0.7783 - accuracy: 0.8333\n",
            "Epoch 5/35\n",
            "4/4 [==============================] - 0s 1ms/step - loss: 0.7075 - accuracy: 0.8500\n",
            "Epoch 6/35\n",
            "4/4 [==============================] - 0s 1ms/step - loss: 0.6459 - accuracy: 0.8417\n",
            "Epoch 7/35\n",
            "4/4 [==============================] - 0s 1ms/step - loss: 0.5894 - accuracy: 0.8500\n",
            "Epoch 8/35\n",
            "4/4 [==============================] - 0s 1ms/step - loss: 0.5381 - accuracy: 0.8583\n",
            "Epoch 9/35\n",
            "4/4 [==============================] - 0s 2ms/step - loss: 0.4953 - accuracy: 0.8583\n",
            "Epoch 10/35\n",
            "4/4 [==============================] - 0s 2ms/step - loss: 0.4582 - accuracy: 0.8583\n",
            "Epoch 11/35\n",
            "4/4 [==============================] - 0s 1ms/step - loss: 0.4271 - accuracy: 0.8583\n",
            "Epoch 12/35\n",
            "4/4 [==============================] - 0s 1ms/step - loss: 0.4016 - accuracy: 0.8583\n",
            "Epoch 13/35\n",
            "4/4 [==============================] - 0s 1ms/step - loss: 0.3804 - accuracy: 0.8500\n",
            "Epoch 14/35\n",
            "4/4 [==============================] - 0s 1ms/step - loss: 0.3614 - accuracy: 0.8583\n",
            "Epoch 15/35\n",
            "4/4 [==============================] - 0s 2ms/step - loss: 0.3461 - accuracy: 0.8583\n",
            "Epoch 16/35\n",
            "4/4 [==============================] - 0s 1ms/step - loss: 0.3324 - accuracy: 0.8667\n",
            "Epoch 17/35\n",
            "4/4 [==============================] - 0s 1ms/step - loss: 0.3187 - accuracy: 0.8667\n",
            "Epoch 18/35\n",
            "4/4 [==============================] - 0s 1ms/step - loss: 0.3066 - accuracy: 0.8667\n",
            "Epoch 19/35\n",
            "4/4 [==============================] - 0s 1ms/step - loss: 0.2954 - accuracy: 0.8667\n",
            "Epoch 20/35\n",
            "4/4 [==============================] - 0s 2ms/step - loss: 0.2853 - accuracy: 0.8667\n",
            "Epoch 21/35\n",
            "4/4 [==============================] - 0s 2ms/step - loss: 0.2754 - accuracy: 0.8750\n",
            "Epoch 22/35\n",
            "4/4 [==============================] - 0s 1ms/step - loss: 0.2661 - accuracy: 0.8750\n",
            "Epoch 23/35\n",
            "4/4 [==============================] - 0s 2ms/step - loss: 0.2574 - accuracy: 0.8750\n",
            "Epoch 24/35\n",
            "4/4 [==============================] - 0s 2ms/step - loss: 0.2490 - accuracy: 0.8833\n",
            "Epoch 25/35\n",
            "4/4 [==============================] - 0s 2ms/step - loss: 0.2415 - accuracy: 0.8917\n",
            "Epoch 26/35\n",
            "4/4 [==============================] - 0s 1ms/step - loss: 0.2328 - accuracy: 0.8917\n",
            "Epoch 27/35\n",
            "4/4 [==============================] - 0s 2ms/step - loss: 0.2250 - accuracy: 0.9000\n",
            "Epoch 28/35\n",
            "4/4 [==============================] - 0s 2ms/step - loss: 0.2180 - accuracy: 0.9000\n",
            "Epoch 29/35\n",
            "4/4 [==============================] - 0s 1ms/step - loss: 0.2107 - accuracy: 0.9083\n",
            "Epoch 30/35\n",
            "4/4 [==============================] - 0s 2ms/step - loss: 0.2033 - accuracy: 0.9083\n",
            "Epoch 31/35\n",
            "4/4 [==============================] - 0s 2ms/step - loss: 0.1961 - accuracy: 0.9167\n",
            "Epoch 32/35\n",
            "4/4 [==============================] - 0s 2ms/step - loss: 0.1896 - accuracy: 0.9167\n",
            "Epoch 33/35\n",
            "4/4 [==============================] - 0s 2ms/step - loss: 0.1843 - accuracy: 0.9417\n",
            "Epoch 34/35\n",
            "4/4 [==============================] - 0s 1ms/step - loss: 0.1773 - accuracy: 0.9417\n",
            "Epoch 35/35\n",
            "4/4 [==============================] - 0s 2ms/step - loss: 0.1709 - accuracy: 0.9500\n"
          ],
          "name": "stdout"
        },
        {
          "output_type": "execute_result",
          "data": {
            "text/plain": [
              "<tensorflow.python.keras.callbacks.History at 0x7f3d79ac9c88>"
            ]
          },
          "metadata": {
            "tags": []
          },
          "execution_count": 195
        }
      ]
    },
    {
      "cell_type": "code",
      "metadata": {
        "id": "uw-digBayonp",
        "colab": {
          "base_uri": "https://localhost:8080/",
          "height": 34
        },
        "outputId": "c9701b60-a37b-4408-a798-b8a458f0180f"
      },
      "source": [
        "Y_pred = model.predict(X_test)"
      ],
      "execution_count": null,
      "outputs": [
        {
          "output_type": "execute_result",
          "data": {
            "text/plain": [
              "numpy.ndarray"
            ]
          },
          "metadata": {
            "tags": []
          },
          "execution_count": 214
        }
      ]
    }
  ]
}