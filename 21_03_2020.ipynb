{
  "nbformat": 4,
  "nbformat_minor": 0,
  "metadata": {
    "colab": {
      "provenance": [],
      "authorship_tag": "ABX9TyPBIoa2NORtLYTFEMYMfLQA",
      "include_colab_link": true
    },
    "kernelspec": {
      "name": "python3",
      "display_name": "Python 3"
    }
  },
  "cells": [
    {
      "cell_type": "markdown",
      "metadata": {
        "id": "view-in-github",
        "colab_type": "text"
      },
      "source": [
        "<a href=\"https://colab.research.google.com/github/GayathriP4/Python/blob/main/21_03_2020.ipynb\" target=\"_parent\"><img src=\"https://colab.research.google.com/assets/colab-badge.svg\" alt=\"Open In Colab\"/></a>"
      ]
    },
    {
      "cell_type": "code",
      "metadata": {
        "id": "pMfCOoImWsvH",
        "colab": {
          "base_uri": "https://localhost:8080/",
          "height": 34
        },
        "outputId": "20fe1651-235e-4b50-facb-16ae47ea0240"
      },
      "source": [
        "a=b=c=[40]\n",
        "a.append(20)\n",
        "print(a,b,c)"
      ],
      "execution_count": null,
      "outputs": [
        {
          "output_type": "stream",
          "text": [
            "[40, 20] [40, 20] [40, 20]\n"
          ],
          "name": "stdout"
        }
      ]
    },
    {
      "cell_type": "code",
      "metadata": {
        "id": "-4atmqAHY5iT",
        "colab": {
          "base_uri": "https://localhost:8080/",
          "height": 34
        },
        "outputId": "e94daf65-3623-431a-8765-0eab37bf79fd"
      },
      "source": [
        "a=b=40\n",
        "a+=20\n",
        "print(a,b,c)"
      ],
      "execution_count": null,
      "outputs": [
        {
          "output_type": "stream",
          "text": [
            "60 40 [40, 20]\n"
          ],
          "name": "stdout"
        }
      ]
    },
    {
      "cell_type": "code",
      "metadata": {
        "id": "_SR8wKRmZANi",
        "colab": {
          "base_uri": "https://localhost:8080/",
          "height": 34
        },
        "outputId": "9ba52c08-d827-4319-ee7a-353eaaff3684"
      },
      "source": [
        "a=10"
      ],
      "execution_count": null,
      "outputs": [
        {
          "output_type": "execute_result",
          "data": {
            "text/plain": [
              "10"
            ]
          },
          "metadata": {
            "tags": []
          },
          "execution_count": 4
        }
      ]
    },
    {
      "cell_type": "code",
      "metadata": {
        "id": "oiE11RWbaRuI",
        "colab": {
          "base_uri": "https://localhost:8080/",
          "height": 51
        },
        "outputId": "c84e1d93-3877-4eb9-b200-c2e5ac968def"
      },
      "source": [
        "print('fkgh',\n",
        "      'ghughuh')\n",
        "a='kghhgh'+\\\n",
        "   'rghjhyjhhyj'\n",
        "print(a)"
      ],
      "execution_count": null,
      "outputs": [
        {
          "output_type": "stream",
          "text": [
            "fkgh ghughuh\n",
            "kghhghrghjhyjhhyj\n"
          ],
          "name": "stdout"
        }
      ]
    },
    {
      "cell_type": "code",
      "metadata": {
        "id": "jo6OC1I7aeKJ",
        "colab": {
          "base_uri": "https://localhost:8080/",
          "height": 34
        },
        "outputId": "16808fa3-b41f-47ab-848a-ed9658f3cb8a"
      },
      "source": [
        "'''jhhoihihy\n",
        "knghuyioty'''\n",
        "print(53648)"
      ],
      "execution_count": null,
      "outputs": [
        {
          "output_type": "stream",
          "text": [
            "53648\n"
          ],
          "name": "stdout"
        }
      ]
    },
    {
      "cell_type": "markdown",
      "metadata": {
        "id": "hfcARzCVb1P-"
      },
      "source": [
        "#print(type(a),type(b),sep='___')"
      ]
    },
    {
      "cell_type": "code",
      "metadata": {
        "id": "N7jnopnxgC5t",
        "colab": {
          "base_uri": "https://localhost:8080/",
          "height": 51
        },
        "outputId": "bf9cdac9-a7dc-4fd4-c6c9-d5753cba3b9a"
      },
      "source": [
        "n = (complex(input('Enter : ')))\n",
        "print(type(n),n)"
      ],
      "execution_count": null,
      "outputs": [
        {
          "output_type": "stream",
          "text": [
            "Enter : 2-9j\n",
            "<class 'complex'> (2-9j)\n"
          ],
          "name": "stdout"
        }
      ]
    },
    {
      "cell_type": "code",
      "metadata": {
        "id": "X8QQZb8xmzXR",
        "colab": {
          "base_uri": "https://localhost:8080/",
          "height": 119
        },
        "outputId": "74e9c8b5-4210-410b-c7a2-1490d495ca88"
      },
      "source": [
        "a,b = 2,3\n",
        "print(a + b)\n",
        "print(a - b)\n",
        "print(a * b)\n",
        "print(a / b)\n",
        "print(a // b)\n",
        "print(a % b)"
      ],
      "execution_count": null,
      "outputs": [
        {
          "output_type": "stream",
          "text": [
            "5\n",
            "-1\n",
            "6\n",
            "0.6666666666666666\n",
            "0\n",
            "2\n"
          ],
          "name": "stdout"
        }
      ]
    },
    {
      "cell_type": "markdown",
      "metadata": {
        "id": "zHL6ZFJrm7Ro"
      },
      "source": []
    },
    {
      "cell_type": "code",
      "metadata": {
        "id": "Z6td8m88nEko",
        "colab": {
          "base_uri": "https://localhost:8080/",
          "height": 118
        },
        "outputId": "50562968-6345-449d-d9c0-bc6939b08067"
      },
      "source": [
        "print(a > b)\n",
        "print(a >= b)\n",
        "print(a < b)\n",
        "print(a <= b)\n",
        "print(a == b)\n",
        "print(a != b)"
      ],
      "execution_count": null,
      "outputs": [
        {
          "output_type": "stream",
          "text": [
            "False\n",
            "False\n",
            "True\n",
            "True\n",
            "False\n",
            "True\n"
          ],
          "name": "stdout"
        }
      ]
    },
    {
      "cell_type": "markdown",
      "metadata": {
        "id": "WHrF15Hun5Z1"
      },
      "source": [
        "a+=10\n",
        "print(a)"
      ]
    },
    {
      "cell_type": "code",
      "metadata": {
        "id": "0-LHSCyhpfre",
        "colab": {
          "base_uri": "https://localhost:8080/",
          "height": 34
        },
        "outputId": "c71fa9fd-f422-4fbb-b18d-1d047af93c45"
      },
      "source": [
        "a,b,c = True, \\\n",
        "False,None\n",
        "print(type(a),type(b),type(c))"
      ],
      "execution_count": null,
      "outputs": [
        {
          "output_type": "stream",
          "text": [
            "<class 'bool'> <class 'bool'> <class 'NoneType'>\n"
          ],
          "name": "stdout"
        }
      ]
    },
    {
      "cell_type": "code",
      "metadata": {
        "id": "_MXMEFuKpoiJ",
        "colab": {
          "base_uri": "https://localhost:8080/",
          "height": 50
        },
        "outputId": "00eed9a0-4459-45c7-bb2b-cef11c4feef0"
      },
      "source": [
        "n = int(input(\"Enter n : \"))\n",
        "if n%2==0:\n",
        "  print('Even')\n",
        "else:\n",
        "  print('Odd')"
      ],
      "execution_count": null,
      "outputs": [
        {
          "output_type": "stream",
          "text": [
            "Enter n : 19\n",
            "Odd\n"
          ],
          "name": "stdout"
        }
      ]
    },
    {
      "cell_type": "code",
      "metadata": {
        "id": "5j6eok9ZsGZ8",
        "colab": {
          "base_uri": "https://localhost:8080/",
          "height": 101
        },
        "outputId": "856ab260-dca2-4e43-9308-a79afa2f5958"
      },
      "source": [
        "for i in range(4):\n",
        "  print(i)\n",
        "else: \n",
        "  print('end')"
      ],
      "execution_count": null,
      "outputs": [
        {
          "output_type": "stream",
          "text": [
            "0\n",
            "1\n",
            "2\n",
            "3\n",
            "end\n"
          ],
          "name": "stdout"
        }
      ]
    },
    {
      "cell_type": "code",
      "metadata": {
        "id": "Al6aGd_csqSI"
      },
      "source": [
        "i=0\n",
        "while i < 4 :\n",
        "  print(i)\n",
        "  i+=1\n",
        "else: \n",
        "  print('end')"
      ],
      "execution_count": null,
      "outputs": []
    },
    {
      "cell_type": "code",
      "metadata": {
        "id": "VtyoRmEktB3K",
        "colab": {
          "base_uri": "https://localhost:8080/",
          "height": 50
        },
        "outputId": "96b181aa-96c1-4129-a2be-070f188d28fd"
      },
      "source": [
        "n = int(input(\"Enter n : \"))\n",
        "if n%3 is 0 & n%5 is 0:\n",
        "  print('Success')\n",
        "else:\n",
        "  print('Failure')"
      ],
      "execution_count": null,
      "outputs": [
        {
          "output_type": "stream",
          "text": [
            "Enter n : 12\n",
            "Success\n"
          ],
          "name": "stdout"
        }
      ]
    },
    {
      "cell_type": "code",
      "metadata": {
        "id": "wy6rrw6vumrL",
        "colab": {
          "base_uri": "https://localhost:8080/",
          "height": 50
        },
        "outputId": "19b56954-219f-45b2-f5ef-30914dcd7bc4"
      },
      "source": [
        "n = [int(i) for i in (input().split())]\n",
        "max=0\n",
        "for i in n:\n",
        "  if i > max:\n",
        "    max = i\n",
        "print(max)"
      ],
      "execution_count": null,
      "outputs": [
        {
          "output_type": "stream",
          "text": [
            "1 3344 5322\n",
            "5322\n"
          ],
          "name": "stdout"
        }
      ]
    },
    {
      "cell_type": "code",
      "metadata": {
        "id": "1iTKE2SMyfU_",
        "colab": {
          "base_uri": "https://localhost:8080/",
          "height": 134
        },
        "outputId": "8f0860ca-6e04-40b6-9248-0935b0bc8e31"
      },
      "source": [
        "n = int(input())\n",
        "for i in range(1,n+1):\n",
        "  if n%i==0:\n",
        "    print(i)"
      ],
      "execution_count": null,
      "outputs": [
        {
          "output_type": "stream",
          "text": [
            "Enter n : 32\n",
            "1\n",
            "2\n",
            "4\n",
            "8\n",
            "16\n",
            "32\n"
          ],
          "name": "stdout"
        }
      ]
    }
  ]
}